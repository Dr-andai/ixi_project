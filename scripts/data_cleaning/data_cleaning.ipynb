{
 "cells": [
  {
   "cell_type": "code",
   "execution_count": 1,
   "id": "556669ad",
   "metadata": {},
   "outputs": [],
   "source": [
    "import pandas as pd\n",
    "import matplotlib.pyplot as plt"
   ]
  },
  {
   "cell_type": "code",
   "execution_count": 23,
   "id": "00e54333",
   "metadata": {},
   "outputs": [],
   "source": [
    "participant_metadata = pd.read_csv(\"../../data/metadata/participants.csv\")"
   ]
  },
  {
   "cell_type": "code",
   "execution_count": 24,
   "id": "db14fa20",
   "metadata": {},
   "outputs": [
    {
     "data": {
      "text/plain": [
       "(576, 14)"
      ]
     },
     "execution_count": 24,
     "metadata": {},
     "output_type": "execute_result"
    }
   ],
   "source": [
    "participant_metadata.shape"
   ]
  },
  {
   "cell_type": "code",
   "execution_count": 26,
   "id": "60851430",
   "metadata": {},
   "outputs": [
    {
     "data": {
      "text/plain": [
       "(551, 14)"
      ]
     },
     "execution_count": 26,
     "metadata": {},
     "output_type": "execute_result"
    }
   ],
   "source": [
    "participant_metadata_df = participant_metadata[participant_metadata.groupby('IXI_ID').cumcount() != 1]\n",
    "\n",
    "participant_metadata_df.shape"
   ]
  },
  {
   "cell_type": "code",
   "execution_count": 27,
   "id": "dcafcb18",
   "metadata": {},
   "outputs": [
    {
     "data": {
      "text/plain": [
       "Index(['IXI_ID', 'SEX_ID (1=m, 2=f)', 'HEIGHT', 'WEIGHT', 'ETHNIC_ID',\n",
       "       'MARITAL_ID', 'OCCUPATION_ID', 'QUALIFICATION_ID', 'DOB',\n",
       "       'DATE_AVAILABLE', 'STUDY_DATE', 'AGE', 'SITE_NAME', 'FOLDER_NAME'],\n",
       "      dtype='object')"
      ]
     },
     "execution_count": 27,
     "metadata": {},
     "output_type": "execute_result"
    }
   ],
   "source": [
    "participant_metadata_df.columns"
   ]
  },
  {
   "cell_type": "code",
   "execution_count": 28,
   "id": "6759b3ad",
   "metadata": {},
   "outputs": [],
   "source": [
    "participant_metadata_df = participant_metadata_df[['FOLDER_NAME','AGE','SEX_ID (1=m, 2=f)','HEIGHT','WEIGHT','SITE_NAME']]"
   ]
  },
  {
   "cell_type": "markdown",
   "id": "d31fe0c2",
   "metadata": {},
   "source": [
    "Clean column names"
   ]
  },
  {
   "cell_type": "code",
   "execution_count": 29,
   "id": "020c7558",
   "metadata": {},
   "outputs": [],
   "source": [
    "participant_metadata_df.columns = ['participant_id','age','sex','height','weight','site_name']"
   ]
  },
  {
   "cell_type": "code",
   "execution_count": 30,
   "id": "0e0d10db",
   "metadata": {},
   "outputs": [],
   "source": [
    "participant_metadata_df['age'] = participant_metadata_df['age'].fillna(0).astype('int64')"
   ]
  },
  {
   "cell_type": "code",
   "execution_count": 31,
   "id": "f480e29f",
   "metadata": {},
   "outputs": [],
   "source": [
    "# Turn sex to male/ female\n",
    "participant_metadata_df['sex'] = participant_metadata_df['sex'].replace({1: 'male', 2: 'female'})"
   ]
  },
  {
   "cell_type": "markdown",
   "id": "af147104",
   "metadata": {},
   "source": [
    "Distinct values"
   ]
  },
  {
   "cell_type": "code",
   "execution_count": 32,
   "id": "99cfa14c",
   "metadata": {},
   "outputs": [],
   "source": [
    "participant_metadata_path = \"../../data/metadata/participant_metadata.csv\"\n",
    "participant_metadata_df.to_csv(participant_metadata_path, index=False)"
   ]
  }
 ],
 "metadata": {
  "kernelspec": {
   "display_name": "ixi-nii",
   "language": "python",
   "name": "python3"
  },
  "language_info": {
   "codemirror_mode": {
    "name": "ipython",
    "version": 3
   },
   "file_extension": ".py",
   "mimetype": "text/x-python",
   "name": "python",
   "nbconvert_exporter": "python",
   "pygments_lexer": "ipython3",
   "version": "3.13.3"
  }
 },
 "nbformat": 4,
 "nbformat_minor": 5
}
